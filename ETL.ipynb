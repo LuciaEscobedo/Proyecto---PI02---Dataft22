{
 "cells": [
  {
   "cell_type": "markdown",
   "metadata": {},
   "source": [
    "# Transformaciones"
   ]
  },
  {
   "cell_type": "code",
   "execution_count": null,
   "metadata": {},
   "outputs": [],
   "source": [
    "import json\n",
    "import openpyxl\n",
    "import pandas as pd\n",
    "import re\n",
    "import csv \n",
    "from datetime import datetime\n"
   ]
  },
  {
   "cell_type": "markdown",
   "metadata": {},
   "source": [
    "### 1 - Dataset \"Homicidios - Hechos\"\n",
    "    Información sobre homicidios en siniestros viales ocurridos en la Ciudad desde \n",
    "    el año 2016 hasta el 2021. Los datos incluyen fecha y ubicación del hecho y \n",
    "    tipo de transporte involucrado."
   ]
  },
  {
   "cell_type": "code",
   "execution_count": 54,
   "metadata": {},
   "outputs": [
    {
     "name": "stdout",
     "output_type": "stream",
     "text": [
      "<class 'pandas.core.frame.DataFrame'>\n",
      "RangeIndex: 696 entries, 0 to 695\n",
      "Data columns (total 21 columns):\n",
      " #   Column                 Non-Null Count  Dtype  \n",
      "---  ------                 --------------  -----  \n",
      " 0   ID                     696 non-null    object \n",
      " 1   N_VICTIMAS             696 non-null    int64  \n",
      " 2   FECHA                  696 non-null    object \n",
      " 3   AAAA                   696 non-null    int64  \n",
      " 4   MM                     696 non-null    int64  \n",
      " 5   DD                     696 non-null    int64  \n",
      " 6   HORA                   696 non-null    object \n",
      " 7   HH                     696 non-null    object \n",
      " 8   LUGAR_DEL_HECHO        696 non-null    object \n",
      " 9   TIPO_DE_CALLE          696 non-null    object \n",
      " 10  Calle                  695 non-null    object \n",
      " 11  Altura                 129 non-null    float64\n",
      " 12  Cruce                  525 non-null    object \n",
      " 13  Dirección Normalizada  688 non-null    object \n",
      " 14  COMUNA                 696 non-null    int64  \n",
      " 15  XY (CABA)              696 non-null    object \n",
      " 16  pos x                  696 non-null    object \n",
      " 17  pos y                  696 non-null    object \n",
      " 18  PARTICIPANTES          696 non-null    object \n",
      " 19  VICTIMA                696 non-null    object \n",
      " 20  ACUSADO                696 non-null    object \n",
      "dtypes: float64(1), int64(5), object(15)\n",
      "memory usage: 114.3+ KB\n",
      "None\n"
     ]
    }
   ],
   "source": [
    "#Cargamos el Dataset proporcionado en formato excel\n",
    "df = pd.read_csv('./Datasets/homicidios - HECHOS.csv')\n",
    "\n",
    "# Mostrar el DataFrame\n",
    "print(df.info())"
   ]
  },
  {
   "cell_type": "code",
   "execution_count": 55,
   "metadata": {},
   "outputs": [],
   "source": [
    "# Convertimos 'FECHA' a datetime\n",
    "df['FECHA'] = pd.to_datetime(df['FECHA'])\n",
    "\n",
    "# Filtramos valores anómalos en 'HORA'\n",
    "invalid_times = df[~df['HORA'].str.match(r'^\\d{1,2}:\\d{2}:\\d{2}$')]\n",
    "#print(\"Valores anómalos en 'HORA':\")\n",
    "#print(invalid_times)\n",
    "\n",
    "# Reemplazamos valores anómalos con un valor por defecto '00:00:00'\n",
    "df['HORA'] = df['HORA'].apply(lambda x: '00:00:00' if not re.match(r'^\\d{1,2}:\\d{2}:\\d{2}$', x) else x)\n",
    "\n",
    "# Convertimos 'HORA' a time\n",
    "df['HORA'] = pd.to_datetime(df['HORA'], format='%H:%M:%S').dt.time\n",
    "\n",
    "#Presenta un solo valor anómalo en el id 2019-0103"
   ]
  },
  {
   "cell_type": "code",
   "execution_count": 56,
   "metadata": {},
   "outputs": [],
   "source": [
    "# Creamos la columna DIA_SEMANA para análisis temporal\n",
    "df['DIA_SEMANA'] = df['FECHA'].dt.day_name()"
   ]
  },
  {
   "cell_type": "code",
   "execution_count": 57,
   "metadata": {},
   "outputs": [],
   "source": [
    "# Rellenamos valores nulos en 'Calle' y 'Cruce' con 'unknown'\n",
    "df['Calle'].fillna('unknown', inplace=True)\n",
    "df['Cruce'].fillna('unknown', inplace=True)"
   ]
  },
  {
   "cell_type": "code",
   "execution_count": 58,
   "metadata": {},
   "outputs": [],
   "source": [
    "# Eliminar la columna 'Altura'\n",
    "df = df.drop(columns=['Altura', 'Calle', 'Cruce'])"
   ]
  },
  {
   "cell_type": "code",
   "execution_count": 59,
   "metadata": {},
   "outputs": [],
   "source": [
    "# Convertimos las coordenadas a numérico si están en formato de cadena\n",
    "df['pos x'] = pd.to_numeric(df['pos x'], errors='coerce')\n",
    "df['pos y'] = pd.to_numeric(df['pos y'], errors='coerce')\n",
    "\n",
    "# Verificamos si hay valores nulos después de la conversión y tratarlos si es necesario\n",
    "#print(\"Valores nulos a eliminar en 'pos x':\", df['pos x'].isnull().sum())\n",
    "#print(\"Valores nulos a eliminar en 'pos y':\", df['pos y'].isnull().sum())\n",
    "\n",
    "# Eliminamos filas con valores nulos en 'pos x' y 'pos y'\n",
    "df = df.dropna(subset=['pos x', 'pos y'])\n"
   ]
  },
  {
   "cell_type": "code",
   "execution_count": 60,
   "metadata": {},
   "outputs": [
    {
     "name": "stdout",
     "output_type": "stream",
     "text": [
      "ID                               object\n",
      "N_VICTIMAS                        int64\n",
      "FECHA                    datetime64[ns]\n",
      "AAAA                              int64\n",
      "MM                                int64\n",
      "DD                                int64\n",
      "HORA                             object\n",
      "HH                               object\n",
      "LUGAR_DEL_HECHO                  object\n",
      "TIPO_DE_CALLE                  category\n",
      "Dirección Normalizada            object\n",
      "COMUNA                         category\n",
      "XY (CABA)                        object\n",
      "pos x                           float64\n",
      "pos y                           float64\n",
      "PARTICIPANTES                  category\n",
      "VICTIMA                        category\n",
      "ACUSADO                        category\n",
      "DIA_SEMANA                       object\n",
      "dtype: object\n",
      "          ID  N_VICTIMAS      FECHA  AAAA  MM  DD      HORA HH  \\\n",
      "0  2016-0001           1 2016-01-01  2016   1   1  04:00:00  4   \n",
      "1  2016-0002           1 2016-01-02  2016   1   2  01:15:00  1   \n",
      "2  2016-0003           1 2016-01-03  2016   1   3  07:00:00  7   \n",
      "3  2016-0004           1 2016-01-10  2016   1  10  00:00:00  0   \n",
      "4  2016-0005           1 2016-01-21  2016   1  21  05:20:00  5   \n",
      "\n",
      "                             LUGAR_DEL_HECHO TIPO_DE_CALLE  \\\n",
      "0  AV PIEDRA BUENA Y AV FERNANDEZ DE LA CRUZ       AVENIDA   \n",
      "1          AV GRAL PAZ  Y AV DE LOS CORRALES      GRAL PAZ   \n",
      "2                         AV ENTRE RIOS 2034       AVENIDA   \n",
      "3      AV LARRAZABAL Y GRAL VILLEGAS CONRADO       AVENIDA   \n",
      "4  AV SAN JUAN Y PRESIDENTE LUIS SAENZ PEÑA        AVENIDA   \n",
      "\n",
      "                               Dirección Normalizada COMUNA  \\\n",
      "0  PIEDRA BUENA AV. y FERNANDEZ DE LA CRUZ, F., G...      8   \n",
      "1               PAZ, GRAL. AV. y DE LOS CORRALES AV.      9   \n",
      "2                                ENTRE RIOS AV. 2034      1   \n",
      "3          LARRAZABAL AV. y VILLEGAS, CONRADO, GRAL.      8   \n",
      "4            SAN JUAN AV. y SAENZ PEÃ‘A, LUIS, PRES.      1   \n",
      "\n",
      "                                 XY (CABA)      pos x      pos y  \\\n",
      "0    Point (98896.78238426 93532.43437792) -58.475340 -34.687570   \n",
      "1    Point (95832.05571093 95505.41641999) -58.508775 -34.669777   \n",
      "2   Point (106684.29090040 99706.57687843) -58.390403 -34.631894   \n",
      "3    Point (99840.65224780 94269.16534422) -58.465039 -34.680930   \n",
      "4  Point (106980.32827929 100752.16915795) -58.387183 -34.622466   \n",
      "\n",
      "    PARTICIPANTES VICTIMA    ACUSADO DIA_SEMANA  \n",
      "0       MOTO-AUTO    MOTO       AUTO     Friday  \n",
      "1  AUTO-PASAJEROS    AUTO  PASAJEROS   Saturday  \n",
      "2       MOTO-AUTO    MOTO       AUTO     Sunday  \n",
      "3         MOTO-SD    MOTO         SD     Sunday  \n",
      "4  MOTO-PASAJEROS    MOTO  PASAJEROS   Thursday  \n"
     ]
    }
   ],
   "source": [
    "# Verificamos y convertimos las columnas categóricas\n",
    "categorical_columns = ['TIPO_DE_CALLE', 'COMUNA', 'PARTICIPANTES', 'VICTIMA', 'ACUSADO']\n",
    "for column in categorical_columns:\n",
    "    df[column] = df[column].astype('category')\n",
    "\n",
    "# Comprobamos de los cambios\n",
    "print(df.dtypes)\n",
    "print(df.head())"
   ]
  },
  {
   "cell_type": "code",
   "execution_count": 61,
   "metadata": {},
   "outputs": [],
   "source": [
    "# Guardar el DataFrame procesado en un archivo parquet\n",
    "df.to_parquet('./Datasets/homicidios-HECHOS-limpio.parquet', index=False)"
   ]
  }
 ],
 "metadata": {
  "kernelspec": {
   "display_name": "Python 3",
   "language": "python",
   "name": "python3"
  },
  "language_info": {
   "codemirror_mode": {
    "name": "ipython",
    "version": 3
   },
   "file_extension": ".py",
   "mimetype": "text/x-python",
   "name": "python",
   "nbconvert_exporter": "python",
   "pygments_lexer": "ipython3",
   "version": "3.10.11"
  }
 },
 "nbformat": 4,
 "nbformat_minor": 2
}
